{
  "nbformat": 4,
  "nbformat_minor": 0,
  "metadata": {
    "colab": {
      "name": "OTP GENERATOR USING PYTHON .ipynb",
      "provenance": [],
      "collapsed_sections": []
    },
    "kernelspec": {
      "name": "python3",
      "display_name": "Python 3"
    },
    "language_info": {
      "name": "python"
    }
  },
  "cells": [
    {
      "cell_type": "code",
      "metadata": {
        "id": "CXvNEYKiJiQI"
      },
      "source": [
        ""
      ],
      "execution_count": null,
      "outputs": []
    },
    {
      "cell_type": "markdown",
      "metadata": {
        "id": "SelwKSBzJ0gI"
      },
      "source": [
        ""
      ]
    },
    {
      "cell_type": "markdown",
      "metadata": {
        "id": "VXGKw6R3J2Fp"
      },
      "source": [
        "# **OTP GENERATOR PROJECT USING PYTHON**"
      ]
    },
    {
      "cell_type": "markdown",
      "metadata": {
        "id": "P__YqvxiKLIr"
      },
      "source": [
        "# **SEKHAR REDDY** /** sekharreddy717.niper@gmail.com** / +**918331995717** "
      ]
    },
    {
      "cell_type": "code",
      "metadata": {
        "id": "Gihvpa1LKgz7"
      },
      "source": [
        "#OTP GENERATOR PROJECT\n",
        "#GENERATE 4 CHARACTER OTP"
      ],
      "execution_count": 1,
      "outputs": []
    },
    {
      "cell_type": "code",
      "metadata": {
        "id": "PjomlxSwK4RL"
      },
      "source": [
        "import random as r #importing random module in python"
      ],
      "execution_count": 2,
      "outputs": []
    },
    {
      "cell_type": "code",
      "metadata": {
        "id": "hQBjn8VALAYi"
      },
      "source": [
        "import string #importing string module in python"
      ],
      "execution_count": 3,
      "outputs": []
    },
    {
      "cell_type": "code",
      "metadata": {
        "id": "4f9g2QcsLJOQ"
      },
      "source": [
        "length = 4"
      ],
      "execution_count": 24,
      "outputs": []
    },
    {
      "cell_type": "code",
      "metadata": {
        "id": "pIRaa5tXLNdi"
      },
      "source": [
        "otp = ' '"
      ],
      "execution_count": 19,
      "outputs": []
    },
    {
      "cell_type": "code",
      "metadata": {
        "id": "x7T4vCYHLSnq"
      },
      "source": [
        "characters = string.ascii_letters + string.digits"
      ],
      "execution_count": 20,
      "outputs": []
    },
    {
      "cell_type": "code",
      "metadata": {
        "colab": {
          "base_uri": "https://localhost:8080/"
        },
        "id": "VRCCuSL4LeEJ",
        "outputId": "3b7c7cb8-1013-4985-ac8f-a4016571823d"
      },
      "source": [
        "print (characters)"
      ],
      "execution_count": 21,
      "outputs": [
        {
          "output_type": "stream",
          "text": [
            "abcdefghijklmnopqrstuvwxyzABCDEFGHIJKLMNOPQRSTUVWXYZ0123456789\n"
          ],
          "name": "stdout"
        }
      ]
    },
    {
      "cell_type": "code",
      "metadata": {
        "id": "ZxQ93HMCLoTm"
      },
      "source": [
        "for i in range(length):\n",
        "  otp = otp + r.choice(characters)"
      ],
      "execution_count": 22,
      "outputs": []
    },
    {
      "cell_type": "code",
      "metadata": {
        "colab": {
          "base_uri": "https://localhost:8080/"
        },
        "id": "AiCUqoUIL0b0",
        "outputId": "3c05c0a8-b442-4d53-9a5f-0e54cbf89b83"
      },
      "source": [
        "print(\"OTP :\" , otp) "
      ],
      "execution_count": 23,
      "outputs": [
        {
          "output_type": "stream",
          "text": [
            "OTP :  EBld\n"
          ],
          "name": "stdout"
        }
      ]
    },
    {
      "cell_type": "code",
      "metadata": {
        "id": "_FaEjqs0MrCY"
      },
      "source": [
        ""
      ],
      "execution_count": null,
      "outputs": []
    }
  ]
}